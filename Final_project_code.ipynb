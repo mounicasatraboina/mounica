{
  "nbformat": 4,
  "nbformat_minor": 0,
  "metadata": {
    "colab": {
      "name": "Final_project_code.ipynb",
      "provenance": [],
      "collapsed_sections": [],
      "include_colab_link": true
    },
    "kernelspec": {
      "name": "python3",
      "display_name": "Python 3"
    },
    "language_info": {
      "name": "python"
    }
  },
  "cells": [
    {
      "cell_type": "markdown",
      "metadata": {
        "id": "view-in-github",
        "colab_type": "text"
      },
      "source": [
        "<a href=\"https://colab.research.google.com/github/Sharath-11507563/Aspect-based-sentimental-analysis-on-Rulemaking-comments/blob/main/Final_project_code.ipynb\" target=\"_parent\"><img src=\"https://colab.research.google.com/assets/colab-badge.svg\" alt=\"Open In Colab\"/></a>"
      ]
    },
    {
      "cell_type": "markdown",
      "source": [
        "# Importing Libraries"
      ],
      "metadata": {
        "id": "_O-PxONrUVCf"
      }
    },
    {
      "cell_type": "code",
      "metadata": {
        "id": "6Dv6TIMjOfVn",
        "colab": {
          "base_uri": "https://localhost:8080/"
        },
        "outputId": "4813ffd9-1c05-4662-9a62-75c5dad39e01"
      },
      "source": [
        "import nltk, re, string\n",
        "import pandas as pd\n",
        "from nltk.corpus import stopwords\n",
        "from nltk.stem import WordNetLemmatizer, PorterStemmer\n",
        "from sklearn.metrics import cohen_kappa_score\n",
        "import matplotlib.pyplot as plot\n",
        "from sklearn.model_selection import train_test_split\n",
        "from sklearn.feature_extraction.text import CountVectorizer\n",
        "from sklearn import svm\n",
        "from sklearn.naive_bayes import MultinomialNB\n",
        "from sklearn.pipeline import Pipeline\n",
        "from sklearn.linear_model import SGDClassifier\n",
        "from sklearn.tree import DecisionTreeClassifier\n",
        "from sklearn.linear_model import LogisticRegression\n",
        "from sklearn.ensemble import RandomForestClassifier\n",
        "from sklearn import metrics\n",
        "from sklearn.model_selection import cross_val_score\n",
        "from sklearn.metrics import classification_report\n",
        "import seaborn as sn\n",
        "\n",
        "nltk.download(\"stopwords\")\n",
        "nltk.download('punkt')\n",
        "nltk.download('wordnet')"
      ],
      "execution_count": 2,
      "outputs": [
        {
          "output_type": "stream",
          "name": "stdout",
          "text": [
            "[nltk_data] Downloading package stopwords to /root/nltk_data...\n",
            "[nltk_data]   Unzipping corpora/stopwords.zip.\n",
            "[nltk_data] Downloading package punkt to /root/nltk_data...\n",
            "[nltk_data]   Unzipping tokenizers/punkt.zip.\n",
            "[nltk_data] Downloading package wordnet to /root/nltk_data...\n",
            "[nltk_data]   Unzipping corpora/wordnet.zip.\n"
          ]
        },
        {
          "output_type": "execute_result",
          "data": {
            "text/plain": [
              "True"
            ]
          },
          "metadata": {},
          "execution_count": 2
        }
      ]
    },
    {
      "cell_type": "markdown",
      "source": [
        "# Importing Data"
      ],
      "metadata": {
        "id": "XC2wqIGJUbNy"
      }
    },
    {
      "cell_type": "code",
      "source": [
        "url = 'https://raw.githubusercontent.com/Sharath-11507563/Aspect-based-sentimental-analysis-on-Rulemaking-comments/main/Data_with_aspects.csv'\n",
        "data = pd.read_csv(url)"
      ],
      "metadata": {
        "id": "VjHISr8cGOs4"
      },
      "execution_count": 3,
      "outputs": []
    },
    {
      "cell_type": "code",
      "metadata": {
        "colab": {
          "base_uri": "https://localhost:8080/",
          "height": 206
        },
        "id": "KuUc5g9fPFh5",
        "outputId": "fd3acdc9-005f-4bde-e4d5-4d201fa34e6f"
      },
      "source": [
        "data.head(5)"
      ],
      "execution_count": 4,
      "outputs": [
        {
          "output_type": "execute_result",
          "data": {
            "text/html": [
              "<div>\n",
              "<style scoped>\n",
              "    .dataframe tbody tr th:only-of-type {\n",
              "        vertical-align: middle;\n",
              "    }\n",
              "\n",
              "    .dataframe tbody tr th {\n",
              "        vertical-align: top;\n",
              "    }\n",
              "\n",
              "    .dataframe thead th {\n",
              "        text-align: right;\n",
              "    }\n",
              "</style>\n",
              "<table border=\"1\" class=\"dataframe\">\n",
              "  <thead>\n",
              "    <tr style=\"text-align: right;\">\n",
              "      <th></th>\n",
              "      <th>Docket_Id</th>\n",
              "      <th>Comment_Id</th>\n",
              "      <th>Comment</th>\n",
              "      <th>Aspect</th>\n",
              "      <th>Annotator 1</th>\n",
              "      <th>Annotator 2</th>\n",
              "      <th>Annotator 3</th>\n",
              "    </tr>\n",
              "  </thead>\n",
              "  <tbody>\n",
              "    <tr>\n",
              "      <th>0</th>\n",
              "      <td>FDA-2010-D-0277</td>\n",
              "      <td>FDA-2010-D-0277-0007</td>\n",
              "      <td>I am urging the support of FDA 2010-D-0277-000...</td>\n",
              "      <td>children and adolescents</td>\n",
              "      <td>Positive</td>\n",
              "      <td>Positive</td>\n",
              "      <td>Positive</td>\n",
              "    </tr>\n",
              "    <tr>\n",
              "      <th>1</th>\n",
              "      <td>FDA-2010-D-0277</td>\n",
              "      <td>FDA-2010-D-0277-0008</td>\n",
              "      <td>The Family Smoking Prevention and Tobacco Cont...</td>\n",
              "      <td>law</td>\n",
              "      <td>Positive</td>\n",
              "      <td>Positive</td>\n",
              "      <td>Positive</td>\n",
              "    </tr>\n",
              "    <tr>\n",
              "      <th>2</th>\n",
              "      <td>FDA-2010-D-0277</td>\n",
              "      <td>FDA-2010-D-0277-0010</td>\n",
              "      <td>As the director of a state tobacco control pro...</td>\n",
              "      <td>free distribution</td>\n",
              "      <td>Positive</td>\n",
              "      <td>Neutral</td>\n",
              "      <td>Positive</td>\n",
              "    </tr>\n",
              "    <tr>\n",
              "      <th>3</th>\n",
              "      <td>FDA-2010-D-0277</td>\n",
              "      <td>FDA-2010-D-0277-0011</td>\n",
              "      <td>Please, for the protection, health and welfare...</td>\n",
              "      <td>children</td>\n",
              "      <td>Positive</td>\n",
              "      <td>Positive</td>\n",
              "      <td>Positive</td>\n",
              "    </tr>\n",
              "    <tr>\n",
              "      <th>4</th>\n",
              "      <td>FDA-2010-D-0277</td>\n",
              "      <td>FDA-2010-D-0277-0013</td>\n",
              "      <td>Cigars, little cigars, and pipe tobacco can ho...</td>\n",
              "      <td>young people</td>\n",
              "      <td>Positive</td>\n",
              "      <td>Positive</td>\n",
              "      <td>Neutral</td>\n",
              "    </tr>\n",
              "  </tbody>\n",
              "</table>\n",
              "</div>"
            ],
            "text/plain": [
              "         Docket_Id            Comment_Id  ... Annotator 2 Annotator 3\n",
              "0  FDA-2010-D-0277  FDA-2010-D-0277-0007  ...    Positive    Positive\n",
              "1  FDA-2010-D-0277  FDA-2010-D-0277-0008  ...    Positive    Positive\n",
              "2  FDA-2010-D-0277  FDA-2010-D-0277-0010  ...     Neutral    Positive\n",
              "3  FDA-2010-D-0277  FDA-2010-D-0277-0011  ...    Positive    Positive\n",
              "4  FDA-2010-D-0277  FDA-2010-D-0277-0013  ...    Positive     Neutral\n",
              "\n",
              "[5 rows x 7 columns]"
            ]
          },
          "metadata": {},
          "execution_count": 4
        }
      ]
    },
    {
      "cell_type": "markdown",
      "source": [
        "Identifying index of the aspect"
      ],
      "metadata": {
        "id": "PPu2RaSDVDxn"
      }
    },
    {
      "cell_type": "code",
      "source": [
        "def find_index(comment, aspect):\n",
        "  aspect_list = aspect.split(\",\")\n",
        "  for aspect_ in aspect_list:\n",
        "    if aspect_.lower() in comment.lower():\n",
        "      index_ = comment.lower().find(aspect_)\n",
        "      if index_ == -1: return str(len(comment)-len(aspect_))+\"-\"+str(len(comment))\n",
        "      else: return str(index_)+\"-\"+str(index_+len(aspect_))"
      ],
      "metadata": {
        "id": "t42By_NYEqVf"
      },
      "execution_count": 5,
      "outputs": []
    },
    {
      "cell_type": "markdown",
      "source": [
        "#Pre-processing the data"
      ],
      "metadata": {
        "id": "QBPLidRAUyJJ"
      }
    },
    {
      "cell_type": "code",
      "metadata": {
        "id": "KMc7asy7PXZX"
      },
      "source": [
        "#Defining functions for pre-processing\n",
        "stopwords_list = stopwords.words('english') # importing stopwords\n",
        "punctuations_list = string.punctuation # get punctuations\n",
        "lemmatizer = WordNetLemmatizer() # initialize word lemmatizer\n",
        "\n",
        "def filter_annotation(annotator):\n",
        "  (annotator1, annotator2, annotator3) = annotator\n",
        "  if annotator1.lower()[:3]=='pos' and annotator2.lower()[:3]=='pos' and annotator3.lower()[:3]=='pos': return \"Positive\"\n",
        "  elif annotator1.lower()[:3]=='neg' and annotator2.lower()[:3]=='neg' and annotator3.lower()[:3]=='neg': return \"Negative\"\n",
        "  elif annotator1.lower()[:3]=='neu' and annotator2.lower()[:3]=='neu' and annotator3.lower()[:3]=='neu': return \"Neutral\"\n",
        "  elif (annotator1.lower()[:3]=='pos' and annotator2.lower()[:3]=='pos') or  (annotator2.lower()[:3]=='pos' and annotator3.lower()[:3]=='pos') or (annotator3.lower()[:3]=='pos' and annotator1.lower()[:3]=='pos'): return \"Positive\"\n",
        "  elif (annotator1.lower()[:3]=='neg' and annotator2.lower()[:3]=='neg') or (annotator2.lower()[:3]=='neg' and annotator3.lower()[:3]=='neg') or (annotator3.lower()[:3]=='neg' and annotator1.lower()[:3]=='neg'): return \"Negative\"\n",
        "  elif (annotator1.lower()[:3]=='neu' and annotator2.lower()[:3]=='neu') or (annotator2.lower()[:3]=='neu' and annotator3.lower()[:3]=='neu') or (annotator3.lower()[:3]=='neu' and annotator1.lower()[:3]=='neu'): return \"Neutral\"\n",
        "  else: return 'Neutral'\n",
        "\n",
        "def preprocessing(text):\n",
        "    text = re.sub('<[^>]*>', '', text)\n",
        "    emoticons = re.findall('(?::|;|=)(?:-)?(?:\\)|\\(|D|P)', text)\n",
        "    text = re.sub('[\\W]+', ' ', text.lower())\n",
        "    text = text + \" \".join(emoticons).replace('-', '')\n",
        "    tokenize_text = [lemmatizer.lemmatize(word) for word in nltk.tokenize.word_tokenize(text) \n",
        "                     if (word not in stopwords_list) and (word not in punctuations_list) and (len(word)>=2) and (word.isalpha())]\n",
        "    return \" \".join(tokenize_text)"
      ],
      "execution_count": 6,
      "outputs": []
    },
    {
      "cell_type": "code",
      "metadata": {
        "colab": {
          "base_uri": "https://localhost:8080/",
          "height": 310
        },
        "id": "Ose9uKrihudR",
        "outputId": "5cef37a0-9089-468d-b254-567b9db936a3"
      },
      "source": [
        "#Applying above defined functions to the dataframe\n",
        "data[\"Comment\"] = data[\"Comment\"].apply(str)\n",
        "data[\"Clean_Comment\"] = data[\"Comment\"].apply(preprocessing)\n",
        "data[\"Aspect Index\"] = data[['Comment','Aspect']].apply(lambda x: find_index(*x), axis=1)\n",
        "data.head(5)"
      ],
      "execution_count": 7,
      "outputs": [
        {
          "output_type": "execute_result",
          "data": {
            "text/html": [
              "<div>\n",
              "<style scoped>\n",
              "    .dataframe tbody tr th:only-of-type {\n",
              "        vertical-align: middle;\n",
              "    }\n",
              "\n",
              "    .dataframe tbody tr th {\n",
              "        vertical-align: top;\n",
              "    }\n",
              "\n",
              "    .dataframe thead th {\n",
              "        text-align: right;\n",
              "    }\n",
              "</style>\n",
              "<table border=\"1\" class=\"dataframe\">\n",
              "  <thead>\n",
              "    <tr style=\"text-align: right;\">\n",
              "      <th></th>\n",
              "      <th>Docket_Id</th>\n",
              "      <th>Comment_Id</th>\n",
              "      <th>Comment</th>\n",
              "      <th>Aspect</th>\n",
              "      <th>Annotator 1</th>\n",
              "      <th>Annotator 2</th>\n",
              "      <th>Annotator 3</th>\n",
              "      <th>Clean_Comment</th>\n",
              "      <th>Aspect Index</th>\n",
              "    </tr>\n",
              "  </thead>\n",
              "  <tbody>\n",
              "    <tr>\n",
              "      <th>0</th>\n",
              "      <td>FDA-2010-D-0277</td>\n",
              "      <td>FDA-2010-D-0277-0007</td>\n",
              "      <td>I am urging the support of FDA 2010-D-0277-000...</td>\n",
              "      <td>children and adolescents</td>\n",
              "      <td>Positive</td>\n",
              "      <td>Positive</td>\n",
              "      <td>Positive</td>\n",
              "      <td>urging support fda support effort protecting c...</td>\n",
              "      <td>81-105</td>\n",
              "    </tr>\n",
              "    <tr>\n",
              "      <th>1</th>\n",
              "      <td>FDA-2010-D-0277</td>\n",
              "      <td>FDA-2010-D-0277-0008</td>\n",
              "      <td>The Family Smoking Prevention and Tobacco Cont...</td>\n",
              "      <td>law</td>\n",
              "      <td>Positive</td>\n",
              "      <td>Positive</td>\n",
              "      <td>Positive</td>\n",
              "      <td>family smoking prevention tobacco control act ...</td>\n",
              "      <td>92-95</td>\n",
              "    </tr>\n",
              "    <tr>\n",
              "      <th>2</th>\n",
              "      <td>FDA-2010-D-0277</td>\n",
              "      <td>FDA-2010-D-0277-0010</td>\n",
              "      <td>As the director of a state tobacco control pro...</td>\n",
              "      <td>free distribution</td>\n",
              "      <td>Positive</td>\n",
              "      <td>Neutral</td>\n",
              "      <td>Positive</td>\n",
              "      <td>director state tobacco control program would s...</td>\n",
              "      <td>158-175</td>\n",
              "    </tr>\n",
              "    <tr>\n",
              "      <th>3</th>\n",
              "      <td>FDA-2010-D-0277</td>\n",
              "      <td>FDA-2010-D-0277-0011</td>\n",
              "      <td>Please, for the protection, health and welfare...</td>\n",
              "      <td>children</td>\n",
              "      <td>Positive</td>\n",
              "      <td>Positive</td>\n",
              "      <td>Positive</td>\n",
              "      <td>please protection health welfare child free to...</td>\n",
              "      <td>54-62</td>\n",
              "    </tr>\n",
              "    <tr>\n",
              "      <th>4</th>\n",
              "      <td>FDA-2010-D-0277</td>\n",
              "      <td>FDA-2010-D-0277-0013</td>\n",
              "      <td>Cigars, little cigars, and pipe tobacco can ho...</td>\n",
              "      <td>young people</td>\n",
              "      <td>Positive</td>\n",
              "      <td>Positive</td>\n",
              "      <td>Neutral</td>\n",
              "      <td>cigar little cigar pipe tobacco hook young peo...</td>\n",
              "      <td>49-61</td>\n",
              "    </tr>\n",
              "  </tbody>\n",
              "</table>\n",
              "</div>"
            ],
            "text/plain": [
              "         Docket_Id  ... Aspect Index\n",
              "0  FDA-2010-D-0277  ...       81-105\n",
              "1  FDA-2010-D-0277  ...        92-95\n",
              "2  FDA-2010-D-0277  ...      158-175\n",
              "3  FDA-2010-D-0277  ...        54-62\n",
              "4  FDA-2010-D-0277  ...        49-61\n",
              "\n",
              "[5 rows x 9 columns]"
            ]
          },
          "metadata": {},
          "execution_count": 7
        }
      ]
    },
    {
      "cell_type": "markdown",
      "source": [
        "Converting sentiment into a numeric"
      ],
      "metadata": {
        "id": "Q1gg1_YlVPia"
      }
    },
    {
      "cell_type": "code",
      "metadata": {
        "id": "Rzzp4DHjWaBX"
      },
      "source": [
        "annotator = list(zip(data[\"Annotator 1\"], data[\"Annotator 2\"], data[\"Annotator 3\"]))\n",
        "data[\"Annotator\"] = list(map(filter_annotation, annotator))"
      ],
      "execution_count": 8,
      "outputs": []
    },
    {
      "cell_type": "code",
      "metadata": {
        "colab": {
          "base_uri": "https://localhost:8080/",
          "height": 539
        },
        "id": "68qZt5tNgutV",
        "outputId": "516699ac-31c7-4351-e2d4-fc2dff468f7d"
      },
      "source": [
        "def absolute_sentiment(sentiment):\n",
        "  if sentiment==\"Positive\": return 1\n",
        "  elif sentiment==\"Negative\": return -1\n",
        "  else: return 0\n",
        "  \n",
        "data['Triple_Sentiment'] = data['Annotator'].apply(absolute_sentiment)\n",
        "data['Annotator_1'] = data['Annotator 1'].apply(absolute_sentiment)\n",
        "data['Annotator_2'] = data['Annotator 2'].apply(absolute_sentiment)\n",
        "data['Annotator_3'] = data['Annotator 3'].apply(absolute_sentiment)\n",
        "data.head(5)"
      ],
      "execution_count": 9,
      "outputs": [
        {
          "output_type": "execute_result",
          "data": {
            "text/html": [
              "<div>\n",
              "<style scoped>\n",
              "    .dataframe tbody tr th:only-of-type {\n",
              "        vertical-align: middle;\n",
              "    }\n",
              "\n",
              "    .dataframe tbody tr th {\n",
              "        vertical-align: top;\n",
              "    }\n",
              "\n",
              "    .dataframe thead th {\n",
              "        text-align: right;\n",
              "    }\n",
              "</style>\n",
              "<table border=\"1\" class=\"dataframe\">\n",
              "  <thead>\n",
              "    <tr style=\"text-align: right;\">\n",
              "      <th></th>\n",
              "      <th>Docket_Id</th>\n",
              "      <th>Comment_Id</th>\n",
              "      <th>Comment</th>\n",
              "      <th>Aspect</th>\n",
              "      <th>Annotator 1</th>\n",
              "      <th>Annotator 2</th>\n",
              "      <th>Annotator 3</th>\n",
              "      <th>Clean_Comment</th>\n",
              "      <th>Aspect Index</th>\n",
              "      <th>Annotator</th>\n",
              "      <th>Triple_Sentiment</th>\n",
              "      <th>Annotator_1</th>\n",
              "      <th>Annotator_2</th>\n",
              "      <th>Annotator_3</th>\n",
              "    </tr>\n",
              "  </thead>\n",
              "  <tbody>\n",
              "    <tr>\n",
              "      <th>0</th>\n",
              "      <td>FDA-2010-D-0277</td>\n",
              "      <td>FDA-2010-D-0277-0007</td>\n",
              "      <td>I am urging the support of FDA 2010-D-0277-000...</td>\n",
              "      <td>children and adolescents</td>\n",
              "      <td>Positive</td>\n",
              "      <td>Positive</td>\n",
              "      <td>Positive</td>\n",
              "      <td>urging support fda support effort protecting c...</td>\n",
              "      <td>81-105</td>\n",
              "      <td>Positive</td>\n",
              "      <td>1</td>\n",
              "      <td>1</td>\n",
              "      <td>1</td>\n",
              "      <td>1</td>\n",
              "    </tr>\n",
              "    <tr>\n",
              "      <th>1</th>\n",
              "      <td>FDA-2010-D-0277</td>\n",
              "      <td>FDA-2010-D-0277-0008</td>\n",
              "      <td>The Family Smoking Prevention and Tobacco Cont...</td>\n",
              "      <td>law</td>\n",
              "      <td>Positive</td>\n",
              "      <td>Positive</td>\n",
              "      <td>Positive</td>\n",
              "      <td>family smoking prevention tobacco control act ...</td>\n",
              "      <td>92-95</td>\n",
              "      <td>Positive</td>\n",
              "      <td>1</td>\n",
              "      <td>1</td>\n",
              "      <td>1</td>\n",
              "      <td>1</td>\n",
              "    </tr>\n",
              "    <tr>\n",
              "      <th>2</th>\n",
              "      <td>FDA-2010-D-0277</td>\n",
              "      <td>FDA-2010-D-0277-0010</td>\n",
              "      <td>As the director of a state tobacco control pro...</td>\n",
              "      <td>free distribution</td>\n",
              "      <td>Positive</td>\n",
              "      <td>Neutral</td>\n",
              "      <td>Positive</td>\n",
              "      <td>director state tobacco control program would s...</td>\n",
              "      <td>158-175</td>\n",
              "      <td>Positive</td>\n",
              "      <td>1</td>\n",
              "      <td>1</td>\n",
              "      <td>0</td>\n",
              "      <td>1</td>\n",
              "    </tr>\n",
              "    <tr>\n",
              "      <th>3</th>\n",
              "      <td>FDA-2010-D-0277</td>\n",
              "      <td>FDA-2010-D-0277-0011</td>\n",
              "      <td>Please, for the protection, health and welfare...</td>\n",
              "      <td>children</td>\n",
              "      <td>Positive</td>\n",
              "      <td>Positive</td>\n",
              "      <td>Positive</td>\n",
              "      <td>please protection health welfare child free to...</td>\n",
              "      <td>54-62</td>\n",
              "      <td>Positive</td>\n",
              "      <td>1</td>\n",
              "      <td>1</td>\n",
              "      <td>1</td>\n",
              "      <td>1</td>\n",
              "    </tr>\n",
              "    <tr>\n",
              "      <th>4</th>\n",
              "      <td>FDA-2010-D-0277</td>\n",
              "      <td>FDA-2010-D-0277-0013</td>\n",
              "      <td>Cigars, little cigars, and pipe tobacco can ho...</td>\n",
              "      <td>young people</td>\n",
              "      <td>Positive</td>\n",
              "      <td>Positive</td>\n",
              "      <td>Neutral</td>\n",
              "      <td>cigar little cigar pipe tobacco hook young peo...</td>\n",
              "      <td>49-61</td>\n",
              "      <td>Positive</td>\n",
              "      <td>1</td>\n",
              "      <td>1</td>\n",
              "      <td>1</td>\n",
              "      <td>0</td>\n",
              "    </tr>\n",
              "  </tbody>\n",
              "</table>\n",
              "</div>"
            ],
            "text/plain": [
              "         Docket_Id            Comment_Id  ... Annotator_2 Annotator_3\n",
              "0  FDA-2010-D-0277  FDA-2010-D-0277-0007  ...           1           1\n",
              "1  FDA-2010-D-0277  FDA-2010-D-0277-0008  ...           1           1\n",
              "2  FDA-2010-D-0277  FDA-2010-D-0277-0010  ...           0           1\n",
              "3  FDA-2010-D-0277  FDA-2010-D-0277-0011  ...           1           1\n",
              "4  FDA-2010-D-0277  FDA-2010-D-0277-0013  ...           1           0\n",
              "\n",
              "[5 rows x 14 columns]"
            ]
          },
          "metadata": {},
          "execution_count": 9
        }
      ]
    },
    {
      "cell_type": "markdown",
      "source": [
        "# Exploratory Data Analysis"
      ],
      "metadata": {
        "id": "mElfD1_xVhXq"
      }
    },
    {
      "cell_type": "markdown",
      "source": [
        "Calculating Kappa values between three annotators"
      ],
      "metadata": {
        "id": "YdR1Y_tWVk5U"
      }
    },
    {
      "cell_type": "code",
      "source": [
        "cohen_kappa_score(data['Annotator_1'],data['Annotator_2'])"
      ],
      "metadata": {
        "id": "IqK2hxvnGRdt",
        "outputId": "bd5ed52e-c62f-4c43-8b07-6ccbf1978ccc",
        "colab": {
          "base_uri": "https://localhost:8080/"
        }
      },
      "execution_count": 10,
      "outputs": [
        {
          "output_type": "execute_result",
          "data": {
            "text/plain": [
              "0.8621215855766469"
            ]
          },
          "metadata": {},
          "execution_count": 10
        }
      ]
    },
    {
      "cell_type": "code",
      "source": [
        "cohen_kappa_score(data['Annotator_2'],data['Annotator_3'])"
      ],
      "metadata": {
        "id": "qnetcBaDHS85",
        "outputId": "5746f88d-c59e-483b-ab03-d9a8201a78b4",
        "colab": {
          "base_uri": "https://localhost:8080/"
        }
      },
      "execution_count": 11,
      "outputs": [
        {
          "output_type": "execute_result",
          "data": {
            "text/plain": [
              "0.7180684771554484"
            ]
          },
          "metadata": {},
          "execution_count": 11
        }
      ]
    },
    {
      "cell_type": "code",
      "source": [
        "cohen_kappa_score(data['Annotator_1'],data['Annotator_3'])"
      ],
      "metadata": {
        "id": "5WKp3KHqHYYc",
        "outputId": "04c99e49-dffd-4a83-bc45-6d8605261899",
        "colab": {
          "base_uri": "https://localhost:8080/"
        }
      },
      "execution_count": 12,
      "outputs": [
        {
          "output_type": "execute_result",
          "data": {
            "text/plain": [
              "0.8549604212049456"
            ]
          },
          "metadata": {},
          "execution_count": 12
        }
      ]
    },
    {
      "cell_type": "markdown",
      "source": [
        "Finding out the skewness of the data annotation"
      ],
      "metadata": {
        "id": "V-pCWYwAVrCb"
      }
    },
    {
      "cell_type": "code",
      "source": [
        "data['Annotator 1'].hist()\n",
        "plot.xlabel('Aspect Sentiment')\n",
        "plot.ylabel('Count')\n",
        "plot.title('Annotator 1')"
      ],
      "metadata": {
        "id": "5zW9gKLCP5Tm",
        "outputId": "82b44ae7-7736-42d0-9afa-5424a7075f89",
        "colab": {
          "base_uri": "https://localhost:8080/",
          "height": 313
        }
      },
      "execution_count": 13,
      "outputs": [
        {
          "output_type": "execute_result",
          "data": {
            "text/plain": [
              "Text(0.5, 1.0, 'Annotator 1')"
            ]
          },
          "metadata": {},
          "execution_count": 13
        },
        {
          "output_type": "display_data",
          "data": {
            "image/png": "[encoded data removed]",
            "text/plain": [
              "<Figure size 432x288 with 1 Axes>"
            ]
          },
          "metadata": {
            "needs_background": "light"
          }
        }
      ]
    },
    {
      "cell_type": "code",
      "source": [
        "data['Annotator 2'].hist()\n",
        "plot.xlabel('Aspect Sentiment')\n",
        "plot.ylabel('Count')\n",
        "plot.title('Annotator 2')"
      ],
      "metadata": {
        "id": "Tl11B5EnTja6",
        "outputId": "afe276b9-2c6f-49f2-a375-1582a20d36a6",
        "colab": {
          "base_uri": "https://localhost:8080/",
          "height": 313
        }
      },
      "execution_count": 14,
      "outputs": [
        {
          "output_type": "execute_result",
          "data": {
            "text/plain": [
              "Text(0.5, 1.0, 'Annotator 2')"
            ]
          },
          "metadata": {},
          "execution_count": 14
        },
        {
          "output_type": "display_data",
          "data": {
            "image/png": "[encoded data removed]",
            "text/plain": [
              "<Figure size 432x288 with 1 Axes>"
            ]
          },
          "metadata": {
            "needs_background": "light"
          }
        }
      ]
    },
    {
      "cell_type": "code",
      "source": [
        "data['Annotator 3'].hist()\n",
        "plot.xlabel('Aspect Sentiment')\n",
        "plot.ylabel('Count')\n",
        "plot.title('Annotator 3')"
      ],
      "metadata": {
        "id": "hijKSqEOTo5H",
        "outputId": "3785c3a8-b2d5-4e75-d3f7-d52d4976ccc3",
        "colab": {
          "base_uri": "https://localhost:8080/",
          "height": 313
        }
      },
      "execution_count": 15,
      "outputs": [
        {
          "output_type": "execute_result",
          "data": {
            "text/plain": [
              "Text(0.5, 1.0, 'Annotator 3')"
            ]
          },
          "metadata": {},
          "execution_count": 15
        },
        {
          "output_type": "display_data",
          "data": {
            "image/png": "[encoded data removed]",
            "text/plain": [
              "<Figure size 432x288 with 1 Axes>"
            ]
          },
          "metadata": {
            "needs_background": "light"
          }
        }
      ]
    },
    {
      "cell_type": "code",
      "source": [
        "data['Annotator'].hist()\n",
        "plot.xlabel('Aspect Sentiment')\n",
        "plot.ylabel('Count')\n",
        "plot.title('Triple Annotation')"
      ],
      "metadata": {
        "id": "tMiBPlM9Tyd6",
        "outputId": "5cf3d325-5511-4012-d8a6-dc2caf695b36",
        "colab": {
          "base_uri": "https://localhost:8080/",
          "height": 313
        }
      },
      "execution_count": 16,
      "outputs": [
        {
          "output_type": "execute_result",
          "data": {
            "text/plain": [
              "Text(0.5, 1.0, 'Triple Annotation')"
            ]
          },
          "metadata": {},
          "execution_count": 16
        },
        {
          "output_type": "display_data",
          "data": {
            "image/png": "[encoded data removed]",
            "text/plain": [
              "<Figure size 432x288 with 1 Axes>"
            ]
          },
          "metadata": {
            "needs_background": "light"
          }
        }
      ]
    },
    {
      "cell_type": "markdown",
      "source": [
        "Checking the most repeated aspects"
      ],
      "metadata": {
        "id": "5tuqcv1tW453"
      }
    },
    {
      "cell_type": "code",
      "source": [
        "freq= data['Aspect'].value_counts()\n",
        "display(freq)"
      ],
      "metadata": {
        "id": "StQOyDUEW_1D",
        "outputId": "54959f3b-1424-4e8f-b6fd-66b575595f05",
        "colab": {
          "base_uri": "https://localhost:8080/",
          "height": 235
        }
      },
      "execution_count": 17,
      "outputs": [
        {
          "output_type": "display_data",
          "data": {
            "text/plain": [
              "warnings                 27\n",
              "warning labels           26\n",
              "children                 23\n",
              "small business           20\n",
              "bladder cancer           14\n",
              "                         ..\n",
              "life saving tool          1\n",
              "discouraging, warning     1\n",
              "graphic, cartoon          1\n",
              "physical education        1\n",
              "tighter regulations       1\n",
              "Name: Aspect, Length: 629, dtype: int64"
            ]
          },
          "metadata": {}
        }
      ]
    },
    {
      "cell_type": "markdown",
      "source": [
        "Basic EDA for text data"
      ],
      "metadata": {
        "id": "uTSZZ8QLVzdQ"
      }
    },
    {
      "cell_type": "code",
      "source": [
        "data['Number of Sentences'] = data['Comment'].apply(lambda x: len(str(x).split(\".\")))\n",
        "data['Number of Words'] = data['Comment'].apply(lambda x: len(str(x).split(\" \")))\n",
        "data['Number of Characters'] = data['Comment'].str.len()\n",
        "def avg_word_length(sentence):\n",
        "  words = sentence.split()\n",
        "  if len(words) != 0:\n",
        "    return(sum(len(word) for word in words)/len(words))\n",
        "  else:\n",
        "    return None\n",
        "data['Average Word Length'] = data['Comment'].apply(lambda x: avg_word_length(x))\n",
        "stop = stopwords.words('english')\n",
        "data['Number of Stopwords'] = data['Comment'].apply(lambda x: len([x for x in x.split() if x in stop]))\n",
        "data['Number of numerics'] = data['Comment'].apply(lambda x: len([x for x in x.split() if x.isdigit()]))\n",
        "data['Number of upper case words'] = data['Comment'].apply(lambda x: len([x for x in x.split() if x.isupper()]))\n",
        "data.head(5)"
      ],
      "metadata": {
        "colab": {
          "base_uri": "https://localhost:8080/",
          "height": 591
        },
        "id": "yBUvrhFCFrn1",
        "outputId": "da4426e2-1446-4059-d713-78e9bce2dd84"
      },
      "execution_count": 18,
      "outputs": [
        {
          "output_type": "execute_result",
          "data": {
            "text/html": [
              "<div>\n",
              "<style scoped>\n",
              "    .dataframe tbody tr th:only-of-type {\n",
              "        vertical-align: middle;\n",
              "    }\n",
              "\n",
              "    .dataframe tbody tr th {\n",
              "        vertical-align: top;\n",
              "    }\n",
              "\n",
              "    .dataframe thead th {\n",
              "        text-align: right;\n",
              "    }\n",
              "</style>\n",
              "<table border=\"1\" class=\"dataframe\">\n",
              "  <thead>\n",
              "    <tr style=\"text-align: right;\">\n",
              "      <th></th>\n",
              "      <th>Docket_Id</th>\n",
              "      <th>Comment_Id</th>\n",
              "      <th>Comment</th>\n",
              "      <th>Aspect</th>\n",
              "      <th>Annotator 1</th>\n",
              "      <th>Annotator 2</th>\n",
              "      <th>Annotator 3</th>\n",
              "      <th>Clean_Comment</th>\n",
              "      <th>Aspect Index</th>\n",
              "      <th>Annotator</th>\n",
              "      <th>Triple_Sentiment</th>\n",
              "      <th>Annotator_1</th>\n",
              "      <th>Annotator_2</th>\n",
              "      <th>Annotator_3</th>\n",
              "      <th>Number of Sentences</th>\n",
              "      <th>Number of Words</th>\n",
              "      <th>Number of Characters</th>\n",
              "      <th>Average Word Length</th>\n",
              "      <th>Number of Stopwords</th>\n",
              "      <th>Number of numerics</th>\n",
              "      <th>Number of upper case words</th>\n",
              "    </tr>\n",
              "  </thead>\n",
              "  <tbody>\n",
              "    <tr>\n",
              "      <th>0</th>\n",
              "      <td>FDA-2010-D-0277</td>\n",
              "      <td>FDA-2010-D-0277-0007</td>\n",
              "      <td>I am urging the support of FDA 2010-D-0277-000...</td>\n",
              "      <td>children and adolescents</td>\n",
              "      <td>Positive</td>\n",
              "      <td>Positive</td>\n",
              "      <td>Positive</td>\n",
              "      <td>urging support fda support effort protecting c...</td>\n",
              "      <td>81-105</td>\n",
              "      <td>Positive</td>\n",
              "      <td>1</td>\n",
              "      <td>1</td>\n",
              "      <td>1</td>\n",
              "      <td>1</td>\n",
              "      <td>5</td>\n",
              "      <td>75</td>\n",
              "      <td>459</td>\n",
              "      <td>5.133333</td>\n",
              "      <td>32</td>\n",
              "      <td>0</td>\n",
              "      <td>4</td>\n",
              "    </tr>\n",
              "    <tr>\n",
              "      <th>1</th>\n",
              "      <td>FDA-2010-D-0277</td>\n",
              "      <td>FDA-2010-D-0277-0008</td>\n",
              "      <td>The Family Smoking Prevention and Tobacco Cont...</td>\n",
              "      <td>law</td>\n",
              "      <td>Positive</td>\n",
              "      <td>Positive</td>\n",
              "      <td>Positive</td>\n",
              "      <td>family smoking prevention tobacco control act ...</td>\n",
              "      <td>92-95</td>\n",
              "      <td>Positive</td>\n",
              "      <td>1</td>\n",
              "      <td>1</td>\n",
              "      <td>1</td>\n",
              "      <td>1</td>\n",
              "      <td>6</td>\n",
              "      <td>142</td>\n",
              "      <td>908</td>\n",
              "      <td>5.401408</td>\n",
              "      <td>46</td>\n",
              "      <td>3</td>\n",
              "      <td>3</td>\n",
              "    </tr>\n",
              "    <tr>\n",
              "      <th>2</th>\n",
              "      <td>FDA-2010-D-0277</td>\n",
              "      <td>FDA-2010-D-0277-0010</td>\n",
              "      <td>As the director of a state tobacco control pro...</td>\n",
              "      <td>free distribution</td>\n",
              "      <td>Positive</td>\n",
              "      <td>Neutral</td>\n",
              "      <td>Positive</td>\n",
              "      <td>director state tobacco control program would s...</td>\n",
              "      <td>158-175</td>\n",
              "      <td>Positive</td>\n",
              "      <td>1</td>\n",
              "      <td>1</td>\n",
              "      <td>0</td>\n",
              "      <td>1</td>\n",
              "      <td>4</td>\n",
              "      <td>75</td>\n",
              "      <td>495</td>\n",
              "      <td>5.613333</td>\n",
              "      <td>25</td>\n",
              "      <td>0</td>\n",
              "      <td>1</td>\n",
              "    </tr>\n",
              "    <tr>\n",
              "      <th>3</th>\n",
              "      <td>FDA-2010-D-0277</td>\n",
              "      <td>FDA-2010-D-0277-0011</td>\n",
              "      <td>Please, for the protection, health and welfare...</td>\n",
              "      <td>children</td>\n",
              "      <td>Positive</td>\n",
              "      <td>Positive</td>\n",
              "      <td>Positive</td>\n",
              "      <td>please protection health welfare child free to...</td>\n",
              "      <td>54-62</td>\n",
              "      <td>Positive</td>\n",
              "      <td>1</td>\n",
              "      <td>1</td>\n",
              "      <td>1</td>\n",
              "      <td>1</td>\n",
              "      <td>4</td>\n",
              "      <td>61</td>\n",
              "      <td>359</td>\n",
              "      <td>4.901639</td>\n",
              "      <td>23</td>\n",
              "      <td>0</td>\n",
              "      <td>2</td>\n",
              "    </tr>\n",
              "    <tr>\n",
              "      <th>4</th>\n",
              "      <td>FDA-2010-D-0277</td>\n",
              "      <td>FDA-2010-D-0277-0013</td>\n",
              "      <td>Cigars, little cigars, and pipe tobacco can ho...</td>\n",
              "      <td>young people</td>\n",
              "      <td>Positive</td>\n",
              "      <td>Positive</td>\n",
              "      <td>Neutral</td>\n",
              "      <td>cigar little cigar pipe tobacco hook young peo...</td>\n",
              "      <td>49-61</td>\n",
              "      <td>Positive</td>\n",
              "      <td>1</td>\n",
              "      <td>1</td>\n",
              "      <td>1</td>\n",
              "      <td>0</td>\n",
              "      <td>3</td>\n",
              "      <td>26</td>\n",
              "      <td>178</td>\n",
              "      <td>5.884615</td>\n",
              "      <td>10</td>\n",
              "      <td>0</td>\n",
              "      <td>1</td>\n",
              "    </tr>\n",
              "  </tbody>\n",
              "</table>\n",
              "</div>"
            ],
            "text/plain": [
              "         Docket_Id  ... Number of upper case words\n",
              "0  FDA-2010-D-0277  ...                          4\n",
              "1  FDA-2010-D-0277  ...                          3\n",
              "2  FDA-2010-D-0277  ...                          1\n",
              "3  FDA-2010-D-0277  ...                          2\n",
              "4  FDA-2010-D-0277  ...                          1\n",
              "\n",
              "[5 rows x 21 columns]"
            ]
          },
          "metadata": {},
          "execution_count": 18
        }
      ]
    },
    {
      "cell_type": "markdown",
      "source": [
        "Summarising the results of basic EDA"
      ],
      "metadata": {
        "id": "4uh4rOr8V4mP"
      }
    },
    {
      "cell_type": "code",
      "source": [
        "print('The maximum,mimimum and average Number of sentences are',data['Number of Sentences'].max(),',',data['Number of Sentences'].min(),',',data['Number of Sentences'].mean())\n",
        "print('The maximum,minimum and average Number of Words are',data['Number of Words'].max(),',',data['Number of Words'].min(),',',data['Number of Words'].mean())\n",
        "print('The maximum,mimimum and average Number of Characters are',data['Number of Characters'].max(),',',data['Number of Characters'].min(),',',data['Number of Characters'].mean())\n",
        "print('The maximum,mimimum and average of Average Word Length are',data['Average Word Length'].max(),',',data['Average Word Length'].min(),',',data['Average Word Length'].mean())\n",
        "print('The maximum,mimimum and average Number of Stopwords are',data['Number of Stopwords'].max(),',',data['Number of Stopwords'].min(),',',data['Number of Stopwords'].mean())\n",
        "print('The maximum,mimimum and average Number of numerics are',data['Number of numerics'].max(),',',data['Number of numerics'].min(),',',data['Number of numerics'].mean())\n",
        "print('The maximum,mimimum and average Number of upper case words are',data['Number of upper case words'].max(),',',data['Number of upper case words'].min(),',',data['Number of upper case words'].mean())"
      ],
      "metadata": {
        "colab": {
          "base_uri": "https://localhost:8080/"
        },
        "id": "4kJFNH-nM8vQ",
        "outputId": "e3179b1f-2c35-456d-e8aa-95c7e82b5388"
      },
      "execution_count": 19,
      "outputs": [
        {
          "output_type": "stream",
          "name": "stdout",
          "text": [
            "The maximum,mimimum and average Number of sentences are 111 , 1 , 9.435871743486974\n",
            "The maximum,minimum and average Number of Words are 899 , 3 , 148.84068136272546\n",
            "The maximum,mimimum and average Number of Characters are 5042 , 13 , 904.5821643286573\n",
            "The maximum,mimimum and average of Average Word Length are 14.2 , 2.5 , 5.012063117688139\n",
            "The maximum,mimimum and average Number of Stopwords are 386 , 0 , 58.90480961923848\n",
            "The maximum,mimimum and average Number of numerics are 11 , 0 , 0.6863727454909819\n",
            "The maximum,mimimum and average Number of upper case words are 226 , 0 , 5.214428857715431\n"
          ]
        }
      ]
    },
    {
      "cell_type": "markdown",
      "source": [
        "#Building models for Triple annotation dataset"
      ],
      "metadata": {
        "id": "Z6nNskqHazd5"
      }
    },
    {
      "cell_type": "code",
      "metadata": {
        "id": "5tS_ySYug2tT"
      },
      "source": [
        "comment = data[\"Aspect\"]\n",
        "sentiment = data[\"Triple_Sentiment\"]"
      ],
      "execution_count": 20,
      "outputs": []
    },
    {
      "cell_type": "code",
      "metadata": {
        "id": "4acq80xviaVL"
      },
      "source": [
        "X_train, X_test, Y_train, Y_test = train_test_split(comment,sentiment, test_size = 0.3, random_state = 60,shuffle=True, stratify=sentiment)"
      ],
      "execution_count": 21,
      "outputs": []
    },
    {
      "cell_type": "code",
      "metadata": {
        "colab": {
          "base_uri": "https://localhost:8080/",
          "height": 533
        },
        "id": "DZxImUohid2i",
        "outputId": "de941c43-a03c-4d6a-dcb9-aa3f14e4f8ef"
      },
      "source": [
        "nb_pipeline = Pipeline([('CV', CountVectorizer()), ('model', MultinomialNB()),])\n",
        "nb_pipeline.fit(X_train,Y_train)\n",
        "\n",
        "Y_pred = nb_pipeline.predict(X_test)\n",
        "\n",
        "confusion_matrix = pd.crosstab(Y_test, Y_pred, rownames=['Actual'], colnames=['Predicted'])\n",
        "sn.heatmap(confusion_matrix, annot=True, cmap='inferno')\n",
        "print('Accuracy: ',metrics.accuracy_score(Y_test, Y_pred))\n",
        "print(\"Navie Bayes accuracy on train data: \", round(nb_pipeline.score(X_train,Y_train)*100), '%')\n",
        "print(\"Navie Bayes accuracy on test data: \", round(nb_pipeline.score(X_test,Y_test)*100), '%')\n",
        "print(classification_report(Y_pred, Y_test))\n",
        "print('The Average Accuracy score for a ten-fold cross-validations is:',cross_val_score(nb_pipeline, comment, sentiment, cv=10, scoring ='accuracy').mean()*100,'%')"
      ],
      "execution_count": 22,
      "outputs": [
        {
          "output_type": "stream",
          "name": "stdout",
          "text": [
            "Accuracy:  0.54\n",
            "Navie Bayes accuracy on train data:  79 %\n",
            "Navie Bayes accuracy on test data:  54 %\n",
            "              precision    recall  f1-score   support\n",
            "\n",
            "          -1       0.79      0.64      0.71       172\n",
            "           0       0.09      0.25      0.13        24\n",
            "           1       0.49      0.44      0.46       104\n",
            "\n",
            "    accuracy                           0.54       300\n",
            "   macro avg       0.46      0.44      0.43       300\n",
            "weighted avg       0.63      0.54      0.58       300\n",
            "\n",
            "The Average Accuracy score for a ten-fold cross-validations is: 53.303030303030305 %\n"
          ]
        },
        {
          "output_type": "display_data",
          "data": {
            "image/png": "[encoded data removed]",
            "text/plain": [
              "<Figure size 432x288 with 2 Axes>"
            ]
          },
          "metadata": {
            "needs_background": "light"
          }
        }
      ]
    },
    {
      "cell_type": "code",
      "metadata": {
        "colab": {
          "base_uri": "https://localhost:8080/",
          "height": 515
        },
        "id": "IufdeLfgihbU",
        "outputId": "587b7f8c-325d-4c3d-b6ca-912baf59a788"
      },
      "source": [
        "svm_pipeline = Pipeline([('CV', CountVectorizer()),('model', SGDClassifier()),])\n",
        "svm_pipeline.fit(X_train,Y_train)\n",
        "\n",
        "Y_pred = svm_pipeline.predict(X_test)\n",
        "\n",
        "confusion_matrix = pd.crosstab(Y_test, Y_pred, rownames=['Actual'], colnames=['Predicted'])\n",
        "sn.heatmap(confusion_matrix, annot=True, cmap='inferno')\n",
        "print(\"SVM accuracy on train data: \", round(svm_pipeline.score(X_train,Y_train)*100), '%')\n",
        "print(\"SVM accuracy on test data: \", round(svm_pipeline.score(X_test,Y_test)*100), '%')\n",
        "print(classification_report(Y_pred, Y_test))\n",
        "print('The Average Accuracy score for a ten-fold cross-validations is:',cross_val_score(svm_pipeline, comment, sentiment, cv=10, scoring ='accuracy').mean()*100,'%')"
      ],
      "execution_count": 23,
      "outputs": [
        {
          "output_type": "stream",
          "name": "stdout",
          "text": [
            "SVM accuracy on train data:  83 %\n",
            "SVM accuracy on test data:  52 %\n",
            "              precision    recall  f1-score   support\n",
            "\n",
            "          -1       0.74      0.63      0.68       164\n",
            "           0       0.14      0.28      0.18        32\n",
            "           1       0.48      0.43      0.45       104\n",
            "\n",
            "    accuracy                           0.52       300\n",
            "   macro avg       0.45      0.45      0.44       300\n",
            "weighted avg       0.58      0.52      0.55       300\n",
            "\n",
            "The Average Accuracy score for a ten-fold cross-validations is: 50.70202020202019 %\n"
          ]
        },
        {
          "output_type": "display_data",
          "data": {
            "image/png": "[encoded data removed]",
            "text/plain": [
              "<Figure size 432x288 with 2 Axes>"
            ]
          },
          "metadata": {
            "needs_background": "light"
          }
        }
      ]
    },
    {
      "cell_type": "code",
      "metadata": {
        "colab": {
          "base_uri": "https://localhost:8080/",
          "height": 515
        },
        "id": "KmTuOc4sinfB",
        "outputId": "beab8adb-acb2-45b6-df0b-f6e34307981b"
      },
      "source": [
        "DT_pipeline = Pipeline([('CV', CountVectorizer()),('model', DecisionTreeClassifier()),])\n",
        "DT_pipeline.fit(X_train,Y_train)\n",
        "\n",
        "Y_pred = DT_pipeline.predict(X_test)\n",
        "\n",
        "confusion_matrix = pd.crosstab(Y_test, Y_pred, rownames=['Actual'], colnames=['Predicted'])\n",
        "sn.heatmap(confusion_matrix, annot=True, cmap='inferno')\n",
        "print(\"Decision Tree accuracy on train data: \", round(DT_pipeline.score(X_train,Y_train)*100), '%')\n",
        "print(\"Decision Tree accuracy on test data: \", round(DT_pipeline.score(X_test,Y_test)*100), '%')\n",
        "print(classification_report(Y_pred, Y_test))\n",
        "print('The Average Accuracy score for a ten-fold cross-validations is:',cross_val_score(DT_pipeline, comment, sentiment, cv=10, scoring ='accuracy').mean()*100,'%')"
      ],
      "execution_count": 24,
      "outputs": [
        {
          "output_type": "stream",
          "name": "stdout",
          "text": [
            "Decision Tree accuracy on train data:  86 %\n",
            "Decision Tree accuracy on test data:  52 %\n",
            "              precision    recall  f1-score   support\n",
            "\n",
            "          -1       0.79      0.61      0.69       180\n",
            "           0       0.21      0.30      0.25        47\n",
            "           1       0.33      0.42      0.37        73\n",
            "\n",
            "    accuracy                           0.52       300\n",
            "   macro avg       0.44      0.44      0.44       300\n",
            "weighted avg       0.58      0.52      0.54       300\n",
            "\n",
            "The Average Accuracy score for a ten-fold cross-validations is: 51.596969696969694 %\n"
          ]
        },
        {
          "output_type": "display_data",
          "data": {
            "image/png": "[encoded data removed]",
            "text/plain": [
              "<Figure size 432x288 with 2 Axes>"
            ]
          },
          "metadata": {
            "needs_background": "light"
          }
        }
      ]
    },
    {
      "cell_type": "code",
      "metadata": {
        "colab": {
          "base_uri": "https://localhost:8080/",
          "height": 515
        },
        "id": "KTo17uIDiupV",
        "outputId": "b2f7f067-f1bc-4de4-ff5d-a6e437b5487f"
      },
      "source": [
        "RF_pipeline = Pipeline([('CV', CountVectorizer()),('model', RandomForestClassifier()),])\n",
        "RF_pipeline.fit(X_train,Y_train)\n",
        "\n",
        "Y_pred = RF_pipeline.predict(X_test)\n",
        "\n",
        "confusion_matrix = pd.crosstab(Y_test, Y_pred, rownames=['Actual'], colnames=['Predicted'])\n",
        "sn.heatmap(confusion_matrix, annot=True, cmap='inferno')\n",
        "print(\"Random Forest accuracy on train data: \", round(RF_pipeline.score(X_train,Y_train)*100), '%')\n",
        "print(\"Random Forest accuracy on test data: \", round(RF_pipeline.score(X_test,Y_test)*100), '%')\n",
        "print(classification_report(Y_pred, Y_test))\n",
        "print('The Average Accuracy score for a ten-fold cross-validations is:',cross_val_score(RF_pipeline, comment, sentiment, cv=10, scoring ='accuracy').mean()*100,'%')"
      ],
      "execution_count": 25,
      "outputs": [
        {
          "output_type": "stream",
          "name": "stdout",
          "text": [
            "Random Forest accuracy on train data:  86 %\n",
            "Random Forest accuracy on test data:  53 %\n",
            "              precision    recall  f1-score   support\n",
            "\n",
            "          -1       0.79      0.61      0.69       179\n",
            "           0       0.21      0.33      0.26        43\n",
            "           1       0.36      0.44      0.40        78\n",
            "\n",
            "    accuracy                           0.53       300\n",
            "   macro avg       0.45      0.46      0.45       300\n",
            "weighted avg       0.59      0.53      0.55       300\n",
            "\n",
            "The Average Accuracy score for a ten-fold cross-validations is: 51.90404040404041 %\n"
          ]
        },
        {
          "output_type": "display_data",
          "data": {
            "image/png": "[encoded data removed]",
            "text/plain": [
              "<Figure size 432x288 with 2 Axes>"
            ]
          },
          "metadata": {
            "needs_background": "light"
          }
        }
      ]
    },
    {
      "cell_type": "code",
      "metadata": {
        "colab": {
          "base_uri": "https://localhost:8080/",
          "height": 515
        },
        "id": "Vka-FEcri3Jw",
        "outputId": "1515ca44-8c39-4fbc-aa33-fa3ec510d518"
      },
      "source": [
        "LR_pipeline = Pipeline([('CV', CountVectorizer()),('model', LogisticRegression()),])\n",
        "LR_pipeline.fit(X_train,Y_train)\n",
        "\n",
        "Y_pred = LR_pipeline.predict(X_test)\n",
        "\n",
        "confusion_matrix = pd.crosstab(Y_test, Y_pred, rownames=['Actual'], colnames=['Predicted'])\n",
        "sn.heatmap(confusion_matrix, annot=True, cmap='inferno')\n",
        "print(\"Logestic Regression accuracy on train data: \", round(LR_pipeline.score(X_train,Y_train)*100), '%')\n",
        "print(\"Logestic Regression accuracy on test data: \", round(LR_pipeline.score(X_test,Y_test)*100), '%')\n",
        "print(classification_report(Y_pred, Y_test))\n",
        "print('The Average Accuracy score for a ten-fold cross-validations is:',cross_val_score(LR_pipeline, comment, sentiment, cv=10, scoring ='accuracy').mean()*100,'%')"
      ],
      "execution_count": 26,
      "outputs": [
        {
          "output_type": "stream",
          "name": "stdout",
          "text": [
            "Logestic Regression accuracy on train data:  77 %\n",
            "Logestic Regression accuracy on test data:  55 %\n",
            "              precision    recall  f1-score   support\n",
            "\n",
            "          -1       0.81      0.62      0.70       185\n",
            "           0       0.14      0.47      0.21        19\n",
            "           1       0.46      0.45      0.45        96\n",
            "\n",
            "    accuracy                           0.55       300\n",
            "   macro avg       0.47      0.51      0.46       300\n",
            "weighted avg       0.66      0.55      0.59       300\n",
            "\n",
            "The Average Accuracy score for a ten-fold cross-validations is: 53.3060606060606 %\n"
          ]
        },
        {
          "output_type": "display_data",
          "data": {
            "image/png": "[encoded data removed]",
            "text/plain": [
              "<Figure size 432x288 with 2 Axes>"
            ]
          },
          "metadata": {
            "needs_background": "light"
          }
        }
      ]
    },
    {
      "cell_type": "markdown",
      "source": [
        "#Building models for Single annotation dataset"
      ],
      "metadata": {
        "id": "LSMV6vEGbS0Q"
      }
    },
    {
      "cell_type": "code",
      "source": [
        "comment = data[\"Clean_Comment\"]\n",
        "sentiment = data[\"Annotator_1\"]"
      ],
      "metadata": {
        "id": "DNIuKyDDbVeP"
      },
      "execution_count": 27,
      "outputs": []
    },
    {
      "cell_type": "code",
      "source": [
        "X_train, X_test, Y_train, Y_test = train_test_split(comment,sentiment, test_size = 0.3, random_state = 60,shuffle=True,stratify=sentiment)"
      ],
      "metadata": {
        "id": "6ArcfVPAbeig"
      },
      "execution_count": 28,
      "outputs": []
    },
    {
      "cell_type": "code",
      "source": [
        "nb_pipeline = Pipeline([('CV', CountVectorizer()), ('model', MultinomialNB()),])\n",
        "nb_pipeline.fit(X_train,Y_train)\n",
        "\n",
        "Y_pred = nb_pipeline.predict(X_test)\n",
        "\n",
        "confusion_matrix = pd.crosstab(Y_test, Y_pred, rownames=['Actual'], colnames=['Predicted'])\n",
        "sn.heatmap(confusion_matrix, annot=True, cmap='inferno')\n",
        "print(\"Navie Bayes accuracy on train data: \", round(nb_pipeline.score(X_train,Y_train)*100), '%')\n",
        "print(\"Navie Bayes accuracy on test data: \", round(nb_pipeline.score(X_test,Y_test)*100), '%')\n",
        "print(classification_report(Y_pred, Y_test))\n",
        "print('The Average Accuracy score for a ten-fold cross-validations is:',cross_val_score(nb_pipeline, comment, sentiment, cv=10, scoring ='accuracy').mean()*100,'%')"
      ],
      "metadata": {
        "colab": {
          "base_uri": "https://localhost:8080/",
          "height": 515
        },
        "id": "qID675PUbhSQ",
        "outputId": "8532d100-ca75-43ab-e7ce-29901d49d3a9"
      },
      "execution_count": 29,
      "outputs": [
        {
          "output_type": "stream",
          "name": "stdout",
          "text": [
            "Navie Bayes accuracy on train data:  84 %\n",
            "Navie Bayes accuracy on test data:  65 %\n",
            "              precision    recall  f1-score   support\n",
            "\n",
            "          -1       0.79      0.74      0.76       149\n",
            "           0       0.29      0.59      0.39        32\n",
            "           1       0.71      0.56      0.63       119\n",
            "\n",
            "    accuracy                           0.65       300\n",
            "   macro avg       0.60      0.63      0.59       300\n",
            "weighted avg       0.70      0.65      0.67       300\n",
            "\n",
            "The Average Accuracy score for a ten-fold cross-validations is: 62.13838383838384 %\n"
          ]
        },
        {
          "output_type": "display_data",
          "data": {
            "image/png": "[encoded data removed]",
            "text/plain": [
              "<Figure size 432x288 with 2 Axes>"
            ]
          },
          "metadata": {
            "needs_background": "light"
          }
        }
      ]
    },
    {
      "cell_type": "code",
      "source": [
        "svm_pipeline = Pipeline([('CV', CountVectorizer()),('model', SGDClassifier()),])\n",
        "svm_pipeline.fit(X_train,Y_train)\n",
        "\n",
        "Y_pred = svm_pipeline.predict(X_test)\n",
        "\n",
        "confusion_matrix = pd.crosstab(Y_test, Y_pred, rownames=['Actual'], colnames=['Predicted'])\n",
        "sn.heatmap(confusion_matrix, annot=True, cmap='inferno')\n",
        "print(\"SVM accuracy on train data: \", round(svm_pipeline.score(X_train,Y_train)*100), '%')\n",
        "print(\"SVM accuracy on test data: \", round(svm_pipeline.score(X_test,Y_test)*100), '%')\n",
        "print(classification_report(Y_pred, Y_test))\n",
        "print('The Average Accuracy score for a ten-fold cross-validations is:',cross_val_score(svm_pipeline, comment, sentiment, cv=10, scoring ='accuracy').mean()*100,'%')"
      ],
      "metadata": {
        "colab": {
          "base_uri": "https://localhost:8080/",
          "height": 515
        },
        "id": "fq4LVw_Qbh-L",
        "outputId": "c4829632-3c9e-4d83-bfd0-2a27fdedc1da"
      },
      "execution_count": 30,
      "outputs": [
        {
          "output_type": "stream",
          "name": "stdout",
          "text": [
            "SVM accuracy on train data:  98 %\n",
            "SVM accuracy on test data:  60 %\n",
            "              precision    recall  f1-score   support\n",
            "\n",
            "          -1       0.66      0.76      0.71       122\n",
            "           0       0.30      0.38      0.34        52\n",
            "           1       0.71      0.53      0.61       126\n",
            "\n",
            "    accuracy                           0.60       300\n",
            "   macro avg       0.56      0.56      0.55       300\n",
            "weighted avg       0.62      0.60      0.60       300\n",
            "\n",
            "The Average Accuracy score for a ten-fold cross-validations is: 54.636363636363626 %\n"
          ]
        },
        {
          "output_type": "display_data",
          "data": {
            "image/png": "[encoded data removed]",
            "text/plain": [
              "<Figure size 432x288 with 2 Axes>"
            ]
          },
          "metadata": {
            "needs_background": "light"
          }
        }
      ]
    },
    {
      "cell_type": "code",
      "source": [
        "DT_pipeline = Pipeline([('CV', CountVectorizer()),('model', DecisionTreeClassifier()),])\n",
        "DT_pipeline.fit(X_train,Y_train)\n",
        "\n",
        "Y_pred = DT_pipeline.predict(X_test)\n",
        "\n",
        "confusion_matrix = pd.crosstab(Y_test, Y_pred, rownames=['Actual'], colnames=['Predicted'])\n",
        "sn.heatmap(confusion_matrix, annot=True, cmap='inferno')\n",
        "print(\"Decision Tree accuracy on train data: \", round(DT_pipeline.score(X_train,Y_train)*100), '%')\n",
        "print(\"Decision Tree accuracy on test data: \", round(DT_pipeline.score(X_test,Y_test)*100), '%')\n",
        "print(classification_report(Y_pred, Y_test))\n",
        "print('The Average Accuracy score for a ten-fold cross-validations is:',cross_val_score(DT_pipeline, comment, sentiment, cv=10, scoring ='accuracy').mean()*100,'%')"
      ],
      "metadata": {
        "colab": {
          "base_uri": "https://localhost:8080/",
          "height": 515
        },
        "id": "poqbEp4Iblhr",
        "outputId": "3f6c70df-3cb8-4119-9011-0eac6af2805c"
      },
      "execution_count": 31,
      "outputs": [
        {
          "output_type": "stream",
          "name": "stdout",
          "text": [
            "Decision Tree accuracy on train data:  100 %\n",
            "Decision Tree accuracy on test data:  56 %\n",
            "              precision    recall  f1-score   support\n",
            "\n",
            "          -1       0.66      0.74      0.70       126\n",
            "           0       0.36      0.34      0.35        71\n",
            "           1       0.54      0.50      0.52       103\n",
            "\n",
            "    accuracy                           0.56       300\n",
            "   macro avg       0.52      0.52      0.52       300\n",
            "weighted avg       0.55      0.56      0.55       300\n",
            "\n",
            "The Average Accuracy score for a ten-fold cross-validations is: 53.01616161616162 %\n"
          ]
        },
        {
          "output_type": "display_data",
          "data": {
            "image/png": "[encoded data removed]",
            "text/plain": [
              "<Figure size 432x288 with 2 Axes>"
            ]
          },
          "metadata": {
            "needs_background": "light"
          }
        }
      ]
    },
    {
      "cell_type": "code",
      "source": [
        "RF_pipeline = Pipeline([('CV', CountVectorizer()),('model', RandomForestClassifier()),])\n",
        "RF_pipeline.fit(X_train,Y_train)\n",
        "\n",
        "Y_pred = RF_pipeline.predict(X_test)\n",
        "\n",
        "confusion_matrix = pd.crosstab(Y_test, Y_pred, rownames=['Actual'], colnames=['Predicted'])\n",
        "sn.heatmap(confusion_matrix, annot=True, cmap='inferno')\n",
        "print(\"Random Forest accuracy on train data: \", round(RF_pipeline.score(X_train,Y_train)*100), '%')\n",
        "print(\"Random Forest accuracy on test data: \", round(RF_pipeline.score(X_test,Y_test)*100), '%')\n",
        "print(classification_report(Y_pred, Y_test))\n",
        "print('The Average Accuracy score for a ten-fold cross-validations is:',cross_val_score(RF_pipeline, comment, sentiment, cv=10, scoring ='accuracy').mean()*100,'%')"
      ],
      "metadata": {
        "colab": {
          "base_uri": "https://localhost:8080/",
          "height": 515
        },
        "id": "hENdesjtbp0_",
        "outputId": "6c2d8b9e-11c3-42d2-ba26-c56c7531bd15"
      },
      "execution_count": 32,
      "outputs": [
        {
          "output_type": "stream",
          "name": "stdout",
          "text": [
            "Random Forest accuracy on train data:  100 %\n",
            "Random Forest accuracy on test data:  62 %\n",
            "              precision    recall  f1-score   support\n",
            "\n",
            "          -1       0.78      0.70      0.74       156\n",
            "           0       0.23      0.58      0.33        26\n",
            "           1       0.65      0.52      0.58       118\n",
            "\n",
            "    accuracy                           0.62       300\n",
            "   macro avg       0.55      0.60      0.55       300\n",
            "weighted avg       0.68      0.62      0.64       300\n",
            "\n",
            "The Average Accuracy score for a ten-fold cross-validations is: 59.73232323232324 %\n"
          ]
        },
        {
          "output_type": "display_data",
          "data": {
            "image/png": "[encoded data removed]",
            "text/plain": [
              "<Figure size 432x288 with 2 Axes>"
            ]
          },
          "metadata": {
            "needs_background": "light"
          }
        }
      ]
    },
    {
      "cell_type": "code",
      "source": [
        "LR_pipeline = Pipeline([('CV', CountVectorizer()),('model', LogisticRegression(max_iter=1000)),])\n",
        "LR_pipeline.fit(X_train,Y_train)\n",
        "\n",
        "Y_pred = LR_pipeline.predict(X_test)\n",
        "\n",
        "confusion_matrix = pd.crosstab(Y_test, Y_pred, rownames=['Actual'], colnames=['Predicted'])\n",
        "sn.heatmap(confusion_matrix, annot=True, cmap='inferno')\n",
        "print(\"Logestic Regression accuracy on train data: \", round(LR_pipeline.score(X_train,Y_train)*100), '%')\n",
        "print(\"Logestic Regression accuracy on test data: \", round(LR_pipeline.score(X_test,Y_test)*100), '%')\n",
        "print(classification_report(Y_pred, Y_test))\n",
        "print('The Average Accuracy score for a ten-fold cross-validations is:',cross_val_score(LR_pipeline, comment, sentiment, cv=10, scoring ='accuracy').mean()*100,'%')"
      ],
      "metadata": {
        "colab": {
          "base_uri": "https://localhost:8080/",
          "height": 515
        },
        "id": "JnuxXlT2brpW",
        "outputId": "48c9dc3d-6b80-450b-db48-3d76e55c62bc"
      },
      "execution_count": 33,
      "outputs": [
        {
          "output_type": "stream",
          "name": "stdout",
          "text": [
            "Logestic Regression accuracy on train data:  99 %\n",
            "Logestic Regression accuracy on test data:  59 %\n",
            "              precision    recall  f1-score   support\n",
            "\n",
            "          -1       0.71      0.74      0.72       134\n",
            "           0       0.30      0.43      0.36        46\n",
            "           1       0.63      0.49      0.55       120\n",
            "\n",
            "    accuracy                           0.59       300\n",
            "   macro avg       0.55      0.56      0.54       300\n",
            "weighted avg       0.61      0.59      0.60       300\n",
            "\n",
            "The Average Accuracy score for a ten-fold cross-validations is: 57.134343434343435 %\n"
          ]
        },
        {
          "output_type": "display_data",
          "data": {
            "image/png": "[encoded data removed]",
            "text/plain": [
              "<Figure size 432x288 with 2 Axes>"
            ]
          },
          "metadata": {
            "needs_background": "light"
          }
        }
      ]
    }
  ]
}