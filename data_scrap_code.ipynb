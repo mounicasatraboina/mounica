{
  "nbformat": 4,
  "nbformat_minor": 0,
  "metadata": {
    "colab": {
      "name": "data_scrap_code.ipynb",
      "provenance": [],
      "collapsed_sections": [],
      "include_colab_link": true
    },
    "kernelspec": {
      "name": "python3",
      "display_name": "Python 3"
    },
    "language_info": {
      "name": "python"
    }
  },
  "cells": [
    {
      "cell_type": "markdown",
      "metadata": {
        "id": "view-in-github",
        "colab_type": "text"
      },
      "source": [
        "<a href=\"https://colab.research.google.com/github/Sharath-11507563/Aspect-based-sentimental-analysis-on-Rulemaking-comments/blob/main/data_scrap_code.ipynb\" target=\"_parent\"><img src=\"https://colab.research.google.com/assets/colab-badge.svg\" alt=\"Open In Colab\"/></a>"
      ]
    },
    {
      "cell_type": "code",
      "metadata": {
        "id": "3RbFsgZnmZGX"
      },
      "source": [
        "key = \"5oXgUp9JOCQI4zE4gEennlnQpQQzEk2OqXdq6qCW\"\n",
        "from bs4 import BeautifulSoup\n",
        "import requests, json\n",
        "import pandas as pd"
      ],
      "execution_count": null,
      "outputs": []
    },
    {
      "cell_type": "code",
      "metadata": {
        "id": "GTqS3Uw5mfWa"
      },
      "source": [
        "url = \"https://api.regulations.gov/v4/dockets?filter[searchTerm]=Tobacco Products; Required Warnings for Cigarette Packages and Advertisements&api_key=\" + key # creating the url\n",
        "soup = BeautifulSoup(requests.get(url).content, 'lxml')# Request for data\n",
        "# Extracting the doket id and object ids\n",
        "data = json.loads(soup.body.p.text)[\"data\"]  \n",
        "docket_id = [i['id'] for i in data]\n",
        "docket_object_id = [i['attributes']['objectId'] for i in data]"
      ],
      "execution_count": null,
      "outputs": []
    },
    {
      "cell_type": "code",
      "metadata": {
        "id": "1QLJqhCOssb9"
      },
      "source": [
        "# This cell will go through all the dockets and get their documents ids and object ids\n",
        "document_ids = []\n",
        "document_objectId = []\n",
        "for dockt in docket_id:\n",
        "    url = \"https://api.regulations.gov/v4/documents?filter[docketId]=\"+dockt+\"&api_key=\" + key\n",
        "    soup = BeautifulSoup(requests.get(url).content, 'lxml')\n",
        "    data = json.loads(soup.body.p.text)[\"data\"]\n",
        "    document_ids.append([i['id'] for i in data]) # get document ids\n",
        "    document_objectId.append([i['attributes']['objectId'] for i in data]) # get document object ids \n",
        "document_ids = list(set([j for i in document_ids for j in i])) # removing similar ids \n",
        "document_objectId = list(set([j for i in document_objectId for j in i])) # Removing similar object ids of documents"
      ],
      "execution_count": null,
      "outputs": []
    },
    {
      "cell_type": "code",
      "metadata": {
        "id": "Mon_clSWtA5V"
      },
      "source": [
        "# This cell will get all the comments ids from the above scrapped document object ids\n",
        "commentsIds = []\n",
        "for doc_objectId in document_objectId:\n",
        "    #print(doc_objectId)\n",
        "    for num in range(1, 21): # check for first 5000 comments from each document\n",
        "        url = \"https://api.regulations.gov/v4/comments?filter[commentOnId]=\"+doc_objectId+\"&page[size]=250&page[number]=\"+str(num)+\"&sort=lastModifiedDate,documentId&api_key=\"+ key\n",
        "        soup = BeautifulSoup(requests.get(url).content, 'lxml')\n",
        "        try:\n",
        "            comment_id_data = json.loads(soup.body.p.text)['data'] \n",
        "            if comment_id_data==[]: break # break the loop if their is seq of empty pages\n",
        "            commentsIds.append([i['id'] for i in comment_id_data]) \n",
        "        except: break\n",
        "commentsIds = list(set([j for i in commentsIds for j in i if j!=[]])) # remove similar comment ids"
      ],
      "execution_count": null,
      "outputs": []
    },
    {
      "cell_type": "code",
      "metadata": {
        "id": "iI6Qr_IQtTgE"
      },
      "source": [
        "# this cell will get comments from each comment id and store it into dict formate\n",
        "comments = {}\n",
        "for comment_id in commentsIds:\n",
        "    url = \"https://api.regulations.gov/v4/comments/\"+comment_id+\"?include=attachments&api_key=\"+ key\n",
        "    soup = BeautifulSoup(requests.get(url).content, 'lxml')\n",
        "    try: comments[comment_id]= json.loads(soup.body.p.text)[\"data\"][\"attributes\"][\"comment\"]\n",
        "    except: pass"
      ],
      "execution_count": null,
      "outputs": []
    },
    {
      "cell_type": "code",
      "metadata": {
        "id": "VRkWCt3fzZ3n",
        "colab": {
          "base_uri": "https://localhost:8080/",
          "height": 17
        },
        "outputId": "4dc22b5d-2a27-445e-9d79-db0c1c4cfbaf"
      },
      "source": [
        "# Save the comments\n",
        "df = pd.DataFrame(list(comments.items()), columns=[\"commentIds\", 'comments'])\n",
        "df.to_csv('Comments6.csv', index = False)\n",
        "from google.colab import files\n",
        "files.download(\"Comments6.csv\")"
      ],
      "execution_count": null,
      "outputs": [
        {
          "output_type": "display_data",
          "data": {
            "application/javascript": [
              "\n",
              "    async function download(id, filename, size) {\n",
              "      if (!google.colab.kernel.accessAllowed) {\n",
              "        return;\n",
              "      }\n",
              "      const div = document.createElement('div');\n",
              "      const label = document.createElement('label');\n",
              "      label.textContent = `Downloading \"${filename}\": `;\n",
              "      div.appendChild(label);\n",
              "      const progress = document.createElement('progress');\n",
              "      progress.max = size;\n",
              "      div.appendChild(progress);\n",
              "      document.body.appendChild(div);\n",
              "\n",
              "      const buffers = [];\n",
              "      let downloaded = 0;\n",
              "\n",
              "      const channel = await google.colab.kernel.comms.open(id);\n",
              "      // Send a message to notify the kernel that we're ready.\n",
              "      channel.send({})\n",
              "\n",
              "      for await (const message of channel.messages) {\n",
              "        // Send a message to notify the kernel that we're ready.\n",
              "        channel.send({})\n",
              "        if (message.buffers) {\n",
              "          for (const buffer of message.buffers) {\n",
              "            buffers.push(buffer);\n",
              "            downloaded += buffer.byteLength;\n",
              "            progress.value = downloaded;\n",
              "          }\n",
              "        }\n",
              "      }\n",
              "      const blob = new Blob(buffers, {type: 'application/binary'});\n",
              "      const a = document.createElement('a');\n",
              "      a.href = window.URL.createObjectURL(blob);\n",
              "      a.download = filename;\n",
              "      div.appendChild(a);\n",
              "      a.click();\n",
              "      div.remove();\n",
              "    }\n",
              "  "
            ],
            "text/plain": [
              "<IPython.core.display.Javascript object>"
            ]
          },
          "metadata": {}
        },
        {
          "output_type": "display_data",
          "data": {
            "application/javascript": [
              "download(\"download_50878173-ff4c-4b95-aed8-433fda690e2b\", \"Comments6.csv\", 310060)"
            ],
            "text/plain": [
              "<IPython.core.display.Javascript object>"
            ]
          },
          "metadata": {}
        }
      ]
    }
  ]
}